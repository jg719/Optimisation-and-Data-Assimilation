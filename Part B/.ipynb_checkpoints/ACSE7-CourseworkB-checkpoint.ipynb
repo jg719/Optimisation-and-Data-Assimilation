{
 "cells": [
  {
   "cell_type": "markdown",
   "metadata": {
    "slideshow": {
     "slide_type": "slide"
    }
   },
   "source": [
    "# ACSE-7 (Optimisation & Inversion) <a class=\"tocSkip\"></a>\n",
    "\n",
    "## Coursework part B <a class=\"tocSkip\"></a>"
   ]
  },
  {
   "cell_type": "markdown",
   "metadata": {},
   "source": [
    "Part B of the coursework covers lectures 2-7. The completion time should be roughly that of part A and part C combined."
   ]
  },
  {
   "cell_type": "markdown",
   "metadata": {},
   "source": [
    "<div class=\"optional\">\n",
    "Answers are highlighted in blue."
   ]
  },
  {
   "cell_type": "markdown",
   "metadata": {},
   "source": [
    "<font size=\"1pt\">Some $\\LaTeX$ definitions hidden in this cell (double-click to reveal)</font>\n",
    "$\n",
    "\\newcommand\\vec[1]{\\boldsymbol{\\mathrm{#1}}}\n",
    "\\newcommand\\mat[1]{\\underline{\\mathbf{#1}}}\n",
    "\\newcommand\\R{\\mathbb{R}}\n",
    "\\newcommand\\vlam{\\boldsymbol{\\lambda}}\n",
    "$"
   ]
  },
  {
   "cell_type": "code",
   "execution_count": 1,
   "metadata": {},
   "outputs": [],
   "source": [
    "%matplotlib inline"
   ]
  },
  {
   "cell_type": "code",
   "execution_count": 2,
   "metadata": {},
   "outputs": [],
   "source": [
    "import numpy as np\n",
    "import matplotlib.pyplot as plt\n",
    "plt.style.use('seaborn-pastel')\n",
    "# the following allows us to plot triangles indicating convergence order\n",
    "#from mpltools import annotation\n",
    "# scipy's optimization\n",
    "import scipy.optimize as sop\n",
    "import scipy.linalg as sl\n",
    "import scipy.sparse as sp\n",
    "import scipy.sparse.linalg as spl\n",
    "\n",
    "# font sizes for plots\n",
    "plt.rcParams['font.size'] = 16\n",
    "plt.rcParams['font.family'] = 'sans-serif'\n",
    "plt.rcParams['font.sans-serif'] = ['Arial', 'Dejavu Sans']"
   ]
  },
  {
   "cell_type": "code",
   "execution_count": 3,
   "metadata": {},
   "outputs": [
    {
     "data": {
      "text/html": [
       "<style>\n",
       "a.definition {\n",
       "    color: blue;\n",
       "    font-style: italic;\n",
       "    font-weight: bold;\n",
       "}\n",
       "div.optional {\n",
       "    display: block;\n",
       "    background-color: #f0f8ff;\n",
       "    border-color: #e0f0ff;\n",
       "    border-left: 5px solid #e0f0ff;\n",
       "    padding: 0.5em;\n",
       "}\n",
       "</style>\n"
      ],
      "text/plain": [
       "<IPython.core.display.HTML object>"
      ]
     },
     "metadata": {},
     "output_type": "display_data"
    }
   ],
   "source": [
    "%%html\n",
    "<style>\n",
    "a.definition {\n",
    "    color: blue;\n",
    "    font-style: italic;\n",
    "    font-weight: bold;\n",
    "}\n",
    "div.optional {\n",
    "    display: block;\n",
    "    background-color: #f0f8ff;\n",
    "    border-color: #e0f0ff;\n",
    "    border-left: 5px solid #e0f0ff;\n",
    "    padding: 0.5em;\n",
    "}\n",
    "</style>"
   ]
  },
  {
   "cell_type": "markdown",
   "metadata": {},
   "source": [
    "## From Poisson to Diffusion Equation <a class=\"tocSkip\"/></a>\n",
    "\n",
    "In the lectures, we have used a finite difference discretisation of Poisson's equation in two dimensions:\n",
    "\n",
    "$$\n",
    "  -\\frac{\\partial^2 u(x,y)}{\\partial x^2} - \\frac{\\partial^2 u(x,y)}{\\partial y^2} = f(x,y)\n",
    "$$\n",
    "\n",
    "with a Finite Difference discretisation given by:\n",
    "\n",
    "\n",
    "$$ \\frac{-u_{i-1} + 2u_{i} -u_{i+1}}{\\Delta x^2} + \\frac{-u_{i-N_x} + 2u_{i} - u_{i+N_x}}{\\Delta y^2} = f_i $$\n",
    "\n",
    "where we assume a computational grid of $N_y$ rows and $N_x$ columns, giving $n=N_x\\cdot N_y$ grid points. The grid values $u_i$ are numbered row by row. The values $u_{i-1}$ and $u_{i+1}$ refer to the values to the left and right of $u_i$ respectively, whereas $u_{i-N_x}$ and $u_{i+N_x}$ refer to value in the row above and below. We will assume $\\Delta y=\\Delta x$. In matrix form we may write\n",
    "\n",
    "$$\n",
    "  \\mat K \\vec u = \\vec f\n",
    "$$\n",
    "\n",
    "with for each row $i$ associated with a grid point in the interior (away from the boundary):\n",
    "\n",
    "$$\n",
    "  K_{i,i} = \\frac{4}{\\Delta x^2}, \\text{ and }\n",
    "  K_{i,i-N_x} = K_{i,i-1} = K_{i,i+1} = K_{i,i+N_x} = -\\frac 1{\\Delta x^2}\n",
    "$$\n",
    "\n",
    "For the boundary rows, we imposed Dirichlet boundary conditions, and we stated, without proof, that the resulting matrix is Symmetric Positive Definite."
   ]
  },
  {
   "cell_type": "markdown",
   "metadata": {},
   "source": [
    "# Question B1\n",
    "\n",
    "* What is your recommendation for a Krylov Subspace method to solve this linear system. Describe in one or two sentences why this method requires the matrix to be SPD.\n",
    "\n",
    "***"
   ]
  },
  {
   "cell_type": "markdown",
   "metadata": {},
   "source": [
    "<div class=\"optional\">\n",
    "The most optimal Krylov Subspace method to solve this linear system is Conjugate Gradient [1]. The SPD requirement for $\\mat K$  ensures that there is a single minimum in each subspace. As such, A-orthogonality is preserved, which is equivalent to saying that $\\vec x^{(k+1)}$ is chosen to be the closest point to the solution $\\vec x^*$ (there is a unique point $\\vec x^{(k+1)}$ that minimises their A-norm) [2].\n",
    "</div>"
   ]
  },
  {
   "cell_type": "markdown",
   "metadata": {},
   "source": [
    "# Question B2\n",
    "\n",
    "\n",
    "Note that for the rows associated with interior points, we have\n",
    "\n",
    "$$\n",
    "  \\sum_{j=1}^n K_{ij} = 0\n",
    "$$\n",
    "\n",
    "i.e. the sum of the entries in each interior row is zero. If we apply Neumann (instead of Dirichlet) boundary conditions, the same is true for all rows: both boundary and interior rows sum to zero."
   ]
  },
  {
   "cell_type": "markdown",
   "metadata": {},
   "source": [
    "* Is the matrix with Neumann boundary condition still Symmetric Positive Definite? **Hint:** consider a vector $\\vec v$ whose values are all the same: $v_i=C$ for all $i$ with some constant $C$, and compute $\\vec v^T\\mat K\\vec v$. Assuming the matrix is symmetric, and that for all other vectors $\\vec v$ we still have $\\vec v^T\\mat K\\vec v\\gt 0$, what other term *does* apply to this matrix?\n",
    "\n",
    "***"
   ]
  },
  {
   "cell_type": "markdown",
   "metadata": {},
   "source": [
    "<div class=\"optional\">\n",
    "The new matrix $\\mat K$ has a non-empty null space, so it is singular. If the system satisfies the compatibility condition [4], it is **Symmetric Positive Semi-Definite** (as opposed to SPD). Given a vector $\\vec v$ whose values are all the same ($v_i=C$) for all $i$ with some constant $C$, and the matrix $\\mat K$ of the discretised Poisson equation with Neumann conditions,  the following is true:\n",
    "\n",
    "$$\\vec v^T\\mat K\\vec v = 0$$ \n",
    "\n",
    "A Positive Semi-Definite matrix $\\mat K$ satisfies that  $\\vec v^T\\mat K\\vec v \\geq 0 $ (as opposed to the more strict condition for Positive Definiteness $\\vec v^T\\mat K\\vec v \\gt 0 $) [3]. \n",
    "\n",
    "Note that the matrix $\\mat K$ becomes symmetric after halving the equations for the boundary conditions. \n",
    "\n",
    "This is checked in the snippet of code below."
   ]
  },
  {
   "cell_type": "code",
   "execution_count": 4,
   "metadata": {},
   "outputs": [
    {
     "name": "stdout",
     "output_type": "stream",
     "text": [
      "[[ 1 -1  0  0]\n",
      " [-1  2 -1  0]\n",
      " [ 0 -1  2 -1]\n",
      " [ 0  0 -1  1]]\n",
      "The product vt K v = 0  for a vector of constants (1D attempt)\n",
      "The sum of all the elements in the matrix is 0 (1D attempt)\n",
      "Is the matrix symmetric? (K = K.t?) (1D attempt): True \n",
      "\n",
      "[[ 2. -2.  0. -1.  0.  0.  0.  0.  0.]\n",
      " [-2.  4. -1.  0. -1.  0.  0.  0.  0.]\n",
      " [ 0. -1.  4. -1.  0. -1.  0.  0.  0.]\n",
      " [-1.  0. -1.  4. -1.  0. -1.  0.  0.]\n",
      " [ 0. -1.  0. -1.  4. -1.  0. -1.  0.]\n",
      " [ 0.  0. -1.  0. -1.  4. -1.  0. -1.]\n",
      " [ 0.  0.  0. -1.  0. -1.  4. -1.  0.]\n",
      " [ 0.  0.  0.  0. -1.  0. -1.  4. -2.]\n",
      " [ 0.  0.  0.  0.  0. -1.  0. -2.  2.]]\n",
      "The product vt K v = 0.0  for a vector of constants (2D attempt)\n",
      "The sum of all the elements in the matrix is 0.0 (2D attempt)\n",
      "Is the matrix symmetric? (K = K.t?) (2D attempt): True \n",
      "\n"
     ]
    }
   ],
   "source": [
    "import numpy as np\n",
    "#Define constant to fill vector - Regardless of value, vtKv = 0 \n",
    "#Given matrices below\n",
    "C = 3\n",
    "\n",
    "#1D case\n",
    "v = np.array([C, C, C, C])\n",
    "K = np.array([[1, -1, 0, 0], [-1, 2, -1, 0], [0, -1, 2, -1], [0, 0, -1, 1]])\n",
    "print(K)\n",
    "print(\"The product vt K v = {}  for a vector of constants (1D attempt)\".format(v@K@v))\n",
    "print(\"The sum of all the elements in the matrix is {} (1D attempt)\".format(K.sum()))\n",
    "print(\"Is the matrix symmetric? (K = K.t?) (1D attempt): {} \\n\".format(np.allclose(K, K.T,)))\n",
    "\n",
    "#2D case \n",
    "K = 4*np.eye(9) - np.eye(9, k=1) - np.eye(9, k=3) - np.eye(9, k=-1) - np.eye(9, k=-3)\n",
    "#K[0, 1] = -4; K[-1, -2] = -4; K[0, 3] = -2; K[-1, -4] = -2\n",
    "K[0, 1] = -2; K[1, 0] = -2; K[-1, -2] = -2; K[-2, -1] = -2; K[0, 0] = 2; K[-1, -1] = 2\n",
    "v = C*np.ones(9)\n",
    "print(K)\n",
    "print(\"The product vt K v = {}  for a vector of constants (2D attempt)\".format(v@K@v))\n",
    "print(\"The sum of all the elements in the matrix is {} (2D attempt)\".format(K.sum()))\n",
    "print(\"Is the matrix symmetric? (K = K.t?) (2D attempt): {} \\n\".format(np.allclose(K, K.T,)))"
   ]
  },
  {
   "cell_type": "markdown",
   "metadata": {},
   "source": [
    "<div class=\"optional\">\n",
    "    \n",
    "The matrix $\\mat K$ has been derived using ghost points [4]. As such, the boundary values have been included in the matrix. In the 1D case, this results in a matrix of size $(n+1)*(n+1)$ rather than $(n*n)$ (as in the Dirichlet BC case). The equations for the boundary have been halved to preserve symmetry [5]. "
   ]
  },
  {
   "cell_type": "markdown",
   "metadata": {},
   "source": [
    "# Question B3\n",
    "\n",
    "\n",
    "By adding a time derivative, we can turn this PDE into the diffusion equation\n",
    "\n",
    "$$\n",
    "  \\frac{\\partial u(x,y,t)}{\\partial t} - m \\frac{\\partial^2 u(x,y,t)}{\\partial x^2} - m\\frac{\\partial^2 u(x,y,t)}{\\partial y^2} = 0\n",
    "$$\n",
    "\n",
    "with diffusion coefficient $m$."
   ]
  },
  {
   "cell_type": "markdown",
   "metadata": {},
   "source": [
    "With an implicit time integration (backward Euler) the discrete equation looks like:\n",
    "    \n",
    "$$ \n",
    "\\frac{u_i^{k+1} - u_i^k}{\\Delta t} +\n",
    "m\\frac{-u_{i-1}^{k+1} + 2u_{i}^{k+1} -u_{i+1}^{k+1}}{\\Delta x^2} + m\\frac{-u_{i-N_x}^{k+1} + 2u_{i}^{k+1} - u_{i+N_x}^{k+1}}{\\Delta y^2} = 0 $$\n",
    "\n",
    "where the superscript ${}^{k+1}$ refers to the solution at the end of the timestep, and ${}^k$ to the value at the beginning of the timestep.\n",
    "\n",
    "After multiplying all terms with $\\Delta t$, we can write this discretisation as a linear system\n",
    "\n",
    "$$\n",
    "  \\mat A \\vec u^{k+1} = \\vec u^k\n",
    "$$\n",
    "\n",
    "where the matrix $\\mat A$ is given by\n",
    "\n",
    "$$\n",
    "  \\mat A = \\mat I + m~\\Delta t~\\mat K\n",
    "$$\n",
    "\n",
    "with identity matrix $\\mat I$, and $\\mat K$ the same matrix as we used for Poisson's equation above with Neumann conditions."
   ]
  },
  {
   "cell_type": "markdown",
   "metadata": {},
   "source": [
    "* Using what you already know about $\\mat K$, proof that $\\mat A$ is Symmetric Positive Definite.\n",
    "\n",
    "***"
   ]
  },
  {
   "cell_type": "markdown",
   "metadata": {},
   "source": [
    "<div class=\"optional\">\n",
    "The following is known about the matrixes $\\mat I$ and $\\mat K$:\n",
    "- The identity matrix $\\mat I$ is SPD: $\\vec v^T\\mat I\\vec v \\gt 0 $ \n",
    "- The matrix $ m~\\Delta t~\\mat K$ is Symmetric Positive Semi-Definite: $\\vec v^T (m~\\Delta t~\\mat K)\\vec v \\geq 0$ (note that $ m~\\Delta t$ is a scalar and does not change the type of matrix).\n",
    "\n",
    "As such, the following is true (given any non-zero $\\vec v$):\n",
    "$$    \\mat A = \\mat I + m~\\Delta t~\\mat K =\\vec v^T\\mat I\\vec v + \\vec v^T (m~\\Delta t~\\mat K)\\vec v \\gt 0 $$\n",
    "This proves that $\\mat A$ must be Positive Defnite.\n",
    "\n",
    "On the other hand, it is stated without proof that  the addition of two symmetric matrixes results in a symmetric matrix. \n",
    "\n",
    "Since $\\mat I$ and $ m~\\Delta t~\\mat K$ are both symmetric (as proved in Question B2), $\\mat A$ must be symmetric. \n",
    "\n",
    "Therefore, matrix $\\mat A$ must be Symmetric Positive Definite. \n",
    "\n",
    "This is checked in the snipped of code below."
   ]
  },
  {
   "cell_type": "code",
   "execution_count": 5,
   "metadata": {},
   "outputs": [
    {
     "name": "stdout",
     "output_type": "stream",
     "text": [
      "[[ 1.2 -0.2  0.   0. ]\n",
      " [-0.2  1.4 -0.2  0. ]\n",
      " [ 0.  -0.2  1.4 -0.2]\n",
      " [ 0.   0.  -0.2  1.2]]\n",
      "The product vt K v = 36.0  for a vector of constants (1D attempt)\n",
      "The sum of all the elements in the matrix is 4.0 (1D attempt)\n",
      "Is the matrix symmetric? (K = Kt?) (1D attempt): True \n",
      "\n"
     ]
    }
   ],
   "source": [
    "#1D case\n",
    "v = np.array([C, C, C, C])\n",
    "I = np.eye(4)\n",
    "m = 2\n",
    "dt = 1e-1\n",
    "mdtK = m*dt*np.array([[1, -1, 0, 0], [-1, 2, -1, 0], [0, -1, 2, -1], [0, 0, -1, 1]])\n",
    "K = mdtK + I\n",
    "print(K)\n",
    "print(\"The product vt K v = {}  for a vector of constants (1D attempt)\".format(v@K@v))\n",
    "print(\"The sum of all the elements in the matrix is {} (1D attempt)\".format(K.sum()))\n",
    "print(\"Is the matrix symmetric? (K = Kt?) (1D attempt): {} \\n\".format(np.allclose(K, K.T,)))"
   ]
  },
  {
   "cell_type": "markdown",
   "metadata": {},
   "source": [
    "# Question B4\n",
    "\n",
    "* We consider the use of dense vs. sparse matrices in solving this system. We use the Conjugate Gradient method to solve the linear system above on a series of computational grids where we increase the resolution and thus the number of grid points $n=N_x\\cdot N_y$. We record the average time the CG method takes to perform a single iteration with the results displayed in the graph below. Describe the difference in terms of scaling for the case with dense matrices and the case with sparse matrices, and explain the reason why these differences can be observed. You only need to describe the asymptotic behaviour."
   ]
  },
  {
   "cell_type": "markdown",
   "metadata": {},
   "source": [
    "<img src='graph1.png'></img>\n",
    "\n",
    "***"
   ]
  },
  {
   "cell_type": "markdown",
   "metadata": {},
   "source": [
    "<div class=\"optional\">\n",
    "The plot above shows the time complexity of a single CG iteration. The dense solver scales quadratically ($𝑂(𝑛^2)$), and the sparse one does so linearly ($𝑂(𝑛)$) -- the sparse solver is increasingly faster for larger domains. \n",
    "\n",
    "The complexity of a direct solver for SPD systems depends on the properties of the problem. The most expensive operation in a CG iteration is the matrix-vector multiplication, where empty entries in the matrix do not contribute to the product.  A matrix is considered sparse if most of its elements are zero [6].  This feature is exploited by sparse algorithms, such as the sparse version of CG depicted above.\n"
   ]
  },
  {
   "cell_type": "markdown",
   "metadata": {},
   "source": [
    "# Question B5\n",
    "\n",
    "* As a stopping criterion we use a relative tolerance $\\epsilon_{\\text{rel}}=10^{-5}$. In the next two figures, we show the overall time for the Conjugate Gradient algorithm to converge with that criterion, and the number of iterations it takes. Only the results with a sparse matrix are shown. Again describe and explain the asymptotic behaviour of both graphs. You do not need to explain the specific value of the~ slope of 0.5 in the right-hand figure. Given that we can observe a slope of 0.5 however, what is your expectation of the scaling between the condition number of the matrix and $n$?"
   ]
  },
  {
   "cell_type": "markdown",
   "metadata": {},
   "source": [
    "<img src=\"graph2.png\"></img>\n",
    "\n",
    "***"
   ]
  },
  {
   "cell_type": "markdown",
   "metadata": {},
   "source": [
    "<div class=\"optional\">\n",
    "The left figure shows how as 𝑛 is increased, the time it takes to reach the desired accuracy increases more than linearly with  𝑛. This is a result of an increased number of iterations, as seen in the right figure. The slope of 1.5 of the curve in the left can be thought of as the combination of the order of convergence of sparse CG from Question B4 and the increased number of iterations shown in the figure in the right. The cost per iteration is expected to scale linearly with $n$ (as seen in [1]), as expected for sparse matrices. \n",
    "\n",
    "The condition number of a matrix is defined as the ratio between its largest and smallest eigenvalues [7]. As shown in [8], the condition number of a matrix increases linearly as 𝑛 does. The increases in the condition number of the matrix as a function of increases in n is as shown in Fig. 3 of [9] (for CG).\n",
    "\n",
    "Ill-conditioned matrices result in high condition numbers as n is increased. If the matrix is well-conditioned (small condition number), an iterative method converges. Otherwise (ill-conditioned, high condition number), it diverges. \n",
    "\n",
    "Furthermore, in the case of well-conditioned matrices, the bigger the size of a matrix is, the slower the methods\n",
    "approach the correct solution’s value. For ill-conditioned matrices, the bigger the size of a matrix is (a bigger\n",
    "condition number thereby), the faster the iterative process diverges. The right figure suggests that the matrix used is well-conditioned and that it therefore has a small condition number. \n",
    "  \n",
    "Preconditioning techniques help reduce the condition number of the matrix."
   ]
  },
  {
   "cell_type": "markdown",
   "metadata": {},
   "source": [
    "# Question B6\n",
    "\n",
    "* We also measured the computational time for solving the linear system with a sparse direct method (not shown). We notice that the scaling of the computational time with the problem size $n$ was worse that linear. Explain why this is to be expected. Do you expect the scaling to be better, the same, or even worse when solving the same equation in three dimensions? Explain why.\n",
    "\n",
    "***"
   ]
  },
  {
   "cell_type": "markdown",
   "metadata": {},
   "source": [
    "<div class=\"optional\">\n",
    "    \n",
    "As described in [1]:\n",
    "\n",
    "After several operations of a sparse direct method, the matrix will acquire new nonzero entries (fill-in). As such, the matrix starts becoming dense and the cost converges to that for dense matrices. The amount of work required by a solver is directly related to the amount of fill-in. \n",
    "\n",
    "The savings that arise for using sparse storage format depends a lot on the type of problem. The degree of fill-in increases as the dimensionality of the problem grows. As such, there are more savings for problems based on a 2D grid than problems based on a 3D grid. For many 2D discretised problems, direct methods can be competitive, but in 3D discretisations iterative methods are typically much more efficient."
   ]
  },
  {
   "cell_type": "markdown",
   "metadata": {},
   "source": [
    "# Diffusion Equation as Image Filter (background section - no question) <a class=\"tocSkip\"></a>\n",
    "The diffusion equation has many applications uch as the dispersal of microparticles through random motion (Brownian motion), the spread of a disolved substance, e.g. a pollutant in a fluid, or the spread of heat. We can also use it as a method to apply a blur effect to a photo.\n",
    "\n",
    "First we read in a familiar looking photo:"
   ]
  },
  {
   "cell_type": "code",
   "execution_count": 6,
   "metadata": {},
   "outputs": [
    {
     "data": {
      "image/png": "[encoded data removed]",
      "text/plain": [
       "<Figure size 432x288 with 1 Axes>"
      ]
     },
     "metadata": {
      "needs_background": "light"
     },
     "output_type": "display_data"
    }
   ],
   "source": [
    "img = plt.imread(\"RSM-BW-300x205.png\")\n",
    "plt.imshow(img, cmap='gray');"
   ]
  },
  {
   "cell_type": "markdown",
   "metadata": {},
   "source": [
    "The code to assemble the matrix $\\mat A$ is given by:"
   ]
  },
  {
   "cell_type": "code",
   "execution_count": 7,
   "metadata": {},
   "outputs": [],
   "source": [
    "def K_matrix(Nx, Ny, delta_x=1.0):\n",
    "    \"\"\"Assemble discrete Poisson matrix K\n",
    "    \n",
    "    Nx, Ny: number of gridpoint in x and y directions\n",
    "    delta_x: grid distance\n",
    "    \"\"\"\n",
    "    n = Ny * Nx\n",
    "    K = sp.eye(n)*4  # main diagonal with the value 4\n",
    "    K -= sp.eye(n, k=1)  # connections to grid point on the right\n",
    "    K -= sp.eye(n, k=-1)  # connection to the left\n",
    "    K -= sp.eye(n, k=Nx) # connection to grid point below\n",
    "    K -= sp.eye(n, k=-Nx)  # connection above\n",
    "    K = K / (delta_x)**2  # divide all entries by dx^2\n",
    "        \n",
    "    return K\n",
    "\n",
    "def A_matrix(Nx, Ny, m, delta_t=1.0, delta_x=1.0):\n",
    "    \"\"\"Assemble discrete timestepping matrix A for diffusion equation\n",
    "    \n",
    "    Nx, Ny: number of gridpoint in x and y directions\n",
    "    m: diffusion coefficient\n",
    "    delta_t: time step\n",
    "    delta_x: grid distance\n",
    "    \"\"\"\n",
    "    n = Ny * Nx\n",
    "    K = K_matrix(Nx, Ny, delta_x)\n",
    "    A = sp.eye(n) + m * delta_t * K\n",
    "        \n",
    "    return A"
   ]
  },
  {
   "cell_type": "markdown",
   "metadata": {},
   "source": [
    "So that a simple timestepping model takes the form:"
   ]
  },
  {
   "cell_type": "code",
   "execution_count": 8,
   "metadata": {},
   "outputs": [],
   "source": [
    "def diffusion_model(Nx, Ny, m, u0, Nt, delta_t=1.0, delta_x=1.0):\n",
    "    \"\"\"Solve diffusion equation and return solution in final timestep\n",
    "    \n",
    "    Nx, Ny: number of gridpoint in x and y directions\n",
    "    m: diffusion coefficient\n",
    "    u0: initial condition\n",
    "    Nt: number of timesteps\n",
    "    delta_t: time step\n",
    "    delta_x: grid distance\n",
    "    \"\"\"\n",
    "\n",
    "    A = A_matrix(Nx, Ny, m, delta_t=delta_t, delta_x=delta_x)\n",
    "    u = u0\n",
    "    for i in range(Nt):\n",
    "        u = spl.spsolve(A, u)  # solve using sparse direct solver\n",
    "    return u"
   ]
  },
  {
   "cell_type": "markdown",
   "metadata": {},
   "source": [
    "In the rest of this coursework, we simply assume a fixed value for $\\Delta x=1$, and also a timestep of $\\Delta t=1$. The domain is assumed to be $[0,L]\\times [0,H]$ with length $L=N_x\\Delta x=N_x$ and height $H=N_y\\Delta x=N_y$. The number of timesteps is given by $N_t$, and in the examples kept fixed at $N_t=5$, and we assume that the time $t$ runs between 0 and $T=N_t\\Delta t=N_t$.\n",
    "\n",
    "The code below shows how the diffusion model can be applied to a black and white photo. Note that we need to flatten the `img` array, which has a shape of $N_y\\times N_x$, to a flat array `u` with length $n=N_x\\cdot N_y$:"
   ]
  },
  {
   "cell_type": "code",
   "execution_count": 9,
   "metadata": {},
   "outputs": [
    {
     "data": {
      "image/png": "[encoded data removed]",
      "text/plain": [
       "<Figure size 432x288 with 1 Axes>"
      ]
     },
     "metadata": {
      "needs_background": "light"
     },
     "output_type": "display_data"
    }
   ],
   "source": [
    "Ny, Nx = img.shape\n",
    "Nt = 5\n",
    "m = 3.14159  # what value did we use ??? ## calculated later on\n",
    "u0 = img.flatten()\n",
    "u1 = diffusion_model(Nx, Ny, m, u0, Nt)\n",
    "img1 = u1.reshape(Ny, Nx)\n",
    "plt.imshow(img1, cmap='gray')\n",
    "np.save('rsm-blurred.npy', img1)"
   ]
  },
  {
   "cell_type": "markdown",
   "metadata": {},
   "source": [
    "# Question B7\n",
    "\n",
    "## Inversion for Diffusion Coefficient <a class=\"tocSkip\"/></a>\n",
    "After applying the diffusion model, we have forgotten what value of the diffusion coefficient $m$ we have used. We do however still have the original photo that was used which served as the initial condition $u_{\\text{ic}}$, and the blurred photo obtained from the last timestep value of $u$, which we have stored as $u_{\\text{end}}$ (in the file `rsm-blurred.npy`). We therefore consider the following PDE-constrained optimisation problem:\n",
    "\n",
    "$$\n",
    "  \\text{minimize } f(u, m) = \\int \\left(u(x, y, T) -u_{\\text{end}}(x, y, T)\\right)^2 \\mathrm{d}x\\mathrm{d}y\n",
    "$$\n",
    "\n",
    "subject to the PDE constraint:\n",
    "\n",
    "$$\n",
    "  g(u,m) = \\begin{pmatrix}\n",
    "    \\frac{\\partial u(x,y,t)}{\\partial t} -m\\frac{\\partial^2 u(x,y,t)}{\\partial x^2} - m\\frac{\\partial^2 u(x,y,t)}{\\partial y^2}  \\\\\n",
    "    u(x, y, 0) - u_{\\text{ic}}(x, y) \\\\\n",
    "    \\frac{\\partial u(x,y,t)}{\\partial x}  \\\\\n",
    "    \\frac{\\partial u(x,y,t)}{\\partial y} \n",
    "  \\end{pmatrix}\n",
    "  =\n",
    "  \\begin{pmatrix} \n",
    "  \\phantom{\\frac{\\partial^2}{\\partial x}} 0 \\phantom{\\frac{\\partial^2}{\\partial x}} \\\\\n",
    "  \\phantom{\\frac{\\partial u}{\\partial x}} 0 \\phantom{\\frac{\\partial u}{\\partial x}} \\\\\n",
    "  \\phantom{\\frac{\\partial u}{\\partial x}} 0 \\phantom{\\frac{\\partial u}{\\partial x}} \\\\\n",
    "  \\phantom{\\frac{\\partial u}{\\partial x}} 0 \\phantom{\\frac{\\partial u}{\\partial x}} \n",
    "  \\end{pmatrix}\n",
    "  \\begin{array}{l}\n",
    "\\text{ for } (x,y)\\in [0,L]\\times[0,H], t \\in [0,T] \\phantom{\\frac{\\partial^2}{\\partial x}} \\\\\n",
    "\\text{ for } (x,y)\\in [0,L]\\times[0,H] \\phantom{\\frac{\\partial u}{\\partial x}} \\\\\n",
    "    \\text{ for } x=0\\text{ or x=L, and } y\\in [0,H], t \\in [0,T] \\phantom{\\frac{\\partial u}{\\partial x}} \\\\\n",
    "    \\text{ for } y=0\\text{ or y=H, and } x\\in [0,L], t \\in [0,T]\n",
    "  \\end{array}\n",
    "$$"
   ]
  },
  {
   "cell_type": "markdown",
   "metadata": {},
   "source": [
    "* We decide to use the tangent-linear approach to compute the gradient of the reduced functional. Consider a perturbation $\\delta m$ in the diffusion coefficient $m$, show that the resulting perturbation $\\delta u(x,y,t)$ to the solution $u(x,y,t)$ satisfies the following PDE:\n",
    "\n",
    "$$\n",
    "      \\frac{\\partial \\delta u(x,y,t)}{\\partial t} -m\\frac{\\partial^2 \\delta u(x,y,t)}{\\partial x^2} - m\\frac{\\partial^2 \\delta u(x,y,t)}{\\partial y^2} =\n",
    "      \\delta m\\frac{\\partial^2 u(x,y,t)}{\\partial x^2} + \\delta m\\frac{\\partial^2 u(x,y,t)}{\\partial y^2}      \n",
    "$$\n",
    "\n",
    "with initial condition\n",
    "\n",
    "$$\n",
    "  \\delta u(x,y,0) = 0\n",
    "$$\n",
    "\n",
    "and boundary conditions\n",
    "\n",
    "\\begin{align*}\n",
    "    \\frac{\\partial \\delta u(x,y,t)}{\\partial x} &= 0 & \\text{ for } x=0\\text{ or x=L, and } y\\in [0,H] \\\\\n",
    "    \\frac{\\partial \\delta u(x,y,t)}{\\partial y} &= 0 &\n",
    "    \\text{ for } y=0\\text{ or y=H, and } x\\in [0,L]\n",
    "\\end{align*}\n",
    "\n",
    "***"
   ]
  },
  {
   "cell_type": "markdown",
   "metadata": {},
   "source": [
    "<div class=\"optional\">\n",
    "The tangent linear approach can be used to linearise a PDE. A perturbation $\\delta m$ in $m$ results in a perturbation $\\delta u$ to the solution $u$, leading to the tangent linear equation. It can be described as in [10]:\n",
    "\n",
    "\n",
    "$$\n",
    "  \\frac{\\partial g(u(m), m)}{\\partial u}\\delta u = -\\frac{\\partial g(u(m), m)}{\\partial m}\\delta m\n",
    "$$\n",
    "\n",
    "Firstly, the LHS of this expression is calculated:\n",
    "\n",
    "$$\n",
    "  \\frac{\\partial g(u, m)}{\\partial u} \\delta u = \\begin{pmatrix}  \n",
    "  \\frac{\\partial \\delta u(x,y,t)}{\\partial t} -m\\frac{\\partial^2 \\delta u(x,y,t)}{\\partial x^2} - m\\frac{\\partial^2 \\delta u(x,y,t)}{\\partial y^2}\\\\\n",
    "  \\delta u(x,y,0) \\\\\n",
    "  \\frac{\\partial \\delta u(x,y,t)}{\\partial x}  \\\\\n",
    "  \\frac{\\partial \\delta u(x,y,t)}{\\partial y}\n",
    "  \\end{pmatrix}\n",
    "$$\n",
    "Similarly, the RHS is derived as: \n",
    "$$\n",
    "  \\frac{\\partial g(u, m))}{\\partial m} \\delta m = \\begin{pmatrix}  \n",
    "  \\delta m\\frac{\\partial^2 u(x,y,t)}{\\partial x^2} + \\delta m\\frac{\\partial^2 u(x,y,t)}{\\partial y^2} \\\\\n",
    "  0 \\\\\n",
    "  0 \\\\\n",
    "  0\n",
    "  \\end{pmatrix}\n",
    "$$\n",
    "\n",
    "The equations above correspond to those in the question: The PDE constraint, the initial condition and the two boundary conditions. "
   ]
  },
  {
   "cell_type": "markdown",
   "metadata": {},
   "source": [
    "# Question B8\n",
    "\n",
    "\n",
    "\n",
    "Note that the PDE for $\\delta u$ is very similar to the PDE for $u$, except for the additional right-hand side term. We can therefore implement it using\n",
    "\n",
    "$$\n",
    "  \\mat A \\vec{\\delta u}^{k+1} = \\vec{\\delta u}^k - \\Delta t~\\delta m~\\mat K\\vec u^{k+1}\n",
    "$$\n",
    "\n",
    "where $\\vec{\\delta u}^{k+1}$ and $\\vec{\\delta u}^k$ are the numerical solutions for $\\delta u$ at the end and beginning of the timestep, and $\\vec{u}^{k+1}$ is the numerical solution for $u$ at the end of timestep $k$, calculated as before. The code is given by:"
   ]
  },
  {
   "cell_type": "code",
   "execution_count": 10,
   "metadata": {},
   "outputs": [],
   "source": [
    "def tangent_linear_model(Nx, Ny, kappa, u0, Nt, delta_t=1.0, delta_x=1.0, delta_m=1.0):\n",
    "    \"\"\"Solve tangent linear model based on perturbation in diffusion coefficient.\n",
    "    Return perturbation in final timestep solution\n",
    "    \n",
    "    Nx, Ny: number of gridpoint in x and y directions\n",
    "    u0: initial condition\n",
    "    Nt: number of timesteps\n",
    "    delta_t: time step\n",
    "    delta_x: grid distance\n",
    "    delta_m: perturbation in diffusion coefficient m. Set to 1 to compute gradient (see explanation below)\n",
    "    \"\"\"\n",
    "\n",
    "    K = K_matrix(Nx, Ny, delta_x=delta_x)\n",
    "    A = A_matrix(Nx, Ny, kappa, delta_t=delta_t, delta_x=delta_x)\n",
    "    u = u0\n",
    "    du = np.zeros_like(u)  # initial condition for perturbation du\n",
    "    for i in range(Nt):\n",
    "        u = spl.spsolve(A, u)  # solve u as before\n",
    "        du = spl.spsolve(A, du-delta_t*delta_m*(K @ u))  # solve perturbation du\n",
    "    return du"
   ]
  },
  {
   "cell_type": "markdown",
   "metadata": {},
   "source": [
    "Using the `diffusion_model` code we can compute the solution $\\vec u(m)$ for any value  of the diffusion coefficient $m$, and using the `tangent_linear_model` function we can compute the derivative $\\mathrm{d}\\vec u(m)/\\mathrm{d}m$ by setting $\\delta m=1$:\n",
    "\n",
    "$$\n",
    "  \\delta u = \\frac{\\mathrm{d}\\vec u(m)}{\\mathrm{d}m} \\delta m\n",
    "$$"
   ]
  },
  {
   "cell_type": "code",
   "execution_count": 11,
   "metadata": {},
   "outputs": [],
   "source": [
    "img = plt.imread(\"RSM-BW-300x205.png\")\n",
    "Ny, Nx = img.shape\n",
    "Nt = 5\n",
    "u0 = img.flatten()\n",
    "\n",
    "def u(m):\n",
    "    \"\"\"Solve diffusion equation using diffusion coefficient m. \n",
    "    Keep all other inputs fixed (Nx, Ny, delta_x=1, Nt=5, etc)\"\"\"\n",
    "    u1 = diffusion_model(Nx, Ny, m, u0, Nt)\n",
    "    return u1\n",
    "\n",
    "def dudm(m):\n",
    "    \"\"\"Compute gradient of solution u wrt diffusion coefficient m. Keep all other inputs fixed\n",
    "    Keep all other inputs fixed (Nx, Ny, delta_x=1, Nt=5, etc)\"\"\"\n",
    "    du = tangent_linear_model(Nx, Ny, m, u0, Nt)\n",
    "    return du"
   ]
  },
  {
   "cell_type": "markdown",
   "metadata": {},
   "source": [
    "Note that we keep all other inputs, like the initial condition, and the number of timesteps fixed."
   ]
  },
  {
   "cell_type": "markdown",
   "metadata": {},
   "source": [
    "* Write a test that verifies that the gradient `dudm` computed using the tangent linear model is correct. You may reuse code from the lecture notes, but be aware that $m$ is just a single scalar and not an array, so you may have to adjust the code.\n",
    "\n",
    "***"
   ]
  },
  {
   "cell_type": "markdown",
   "metadata": {},
   "source": [
    "<div class=\"optional\">\n",
    "A Taylor test is implemented, as done in [11] (adapting code from Lecture 4). \n",
    "\n",
    "The function $\\vec u (m)$ is quadratic, so it is expected that the Taylor test returns a convergence of order 2. This validates the correctness of the tangent linear model. "
   ]
  },
  {
   "cell_type": "code",
   "execution_count": 12,
   "metadata": {},
   "outputs": [],
   "source": [
    "def taylor_test(f, grad_f, x, h0, max_iter=20, plot_convergence=True, print_convergence=True):\n",
    "    \"\"\"Taylor test to verify that the function grad_f is the derivative of the function `f`\n",
    "    \n",
    "    We test:\n",
    "    \n",
    "       f(x + h) = f(x) + grad_f(x).h + O(h^2)\n",
    "    \n",
    "    f, grad_f  - function and its derivative to test\n",
    "    x          - point in which to test\n",
    "    h0         - initial perturbation\n",
    "    max_iter   - number of times that h is halved\n",
    "    plot_convergence - whether to plot the convergence of the Taylor residual f(x+h)-f(x)-grad_f(x).h\n",
    "    print_convergence - prints the order of convergence between subsequent iterations.\"\"\"\n",
    "\n",
    "\n",
    "    h = h0[0]\n",
    "    residuals = []\n",
    "    hnorms = []\n",
    "    for i in range(max_iter):\n",
    "        r = f(x + h) - f(x) - grad_f(x) * h\n",
    "        residuals.append(sl.norm(r))\n",
    "        hnorms.append(sl.norm(h))\n",
    "        h /= 2.\n",
    "\n",
    "    if plot_convergence:\n",
    "        fig, ax = plt.subplots(1,2, figsize=(16,4))\n",
    "        ax[0].semilogy(residuals)\n",
    "        ax[0].set_xlabel('iteration')\n",
    "        ax[0].set_ylabel('Taylor residual $|r|$')\n",
    "        ax[0].set_xticks(range(0,max_iter,2))\n",
    "        ax[1].loglog(hnorms, residuals)\n",
    "        ax[1].set_xlabel('perturbation size $\\|h\\|$')\n",
    "        ax[1].set_ylabel('Taylor residual $|r|$')##\n",
    "    if print_convergence:\n",
    "        residuals = np.array(residuals)\n",
    "        print('Order of convergence, log(r(h_i)/r(h_{i+1}))/log(2):')\n",
    "        print(np.log(residuals[:-1]/residuals[1:])/np.log(2))"
   ]
  },
  {
   "cell_type": "code",
   "execution_count": null,
   "metadata": {},
   "outputs": [],
   "source": [
    "m = 2 #\n",
    "np.random.seed(0)  #  (* see note 2 below)\n",
    "h0 = np.random.random(1) #random initial perturbation \n",
    "# this not a small perturbation, but should show the asymptotic convergence for a sufficient number of iterations\n",
    "taylor_test(u, dudm, m, h0)"
   ]
  },
  {
   "cell_type": "markdown",
   "metadata": {},
   "source": [
    "<div class=\"optional\">\n",
    "The order of convergence, computed from subsequent iterations, rapidly reaches the expected value of 2."
   ]
  },
  {
   "cell_type": "markdown",
   "metadata": {},
   "source": [
    "# Question B9\n",
    "\n",
    "\n",
    "The discrete version of the functional is given by:\n",
    "\n",
    "$$\n",
    "  f(\\vec u) = \\left(\\vec u - \\vec u_{\\text{end}}\\right)^T \\left(\\vec u - \\vec u_{\\text{end}}\\right)\n",
    "$$\n",
    "\n",
    "and implemented below:"
   ]
  },
  {
   "cell_type": "code",
   "execution_count": null,
   "metadata": {},
   "outputs": [],
   "source": [
    "img1 = np.load('rsm-blurred.npy')\n",
    "u_end = img1.flatten()\n",
    "u1 = u(m) ## added by moi\n",
    "def f(u):\n",
    "    \"\"\"Functional, return l2 norm error (misfit) between final timestep solution u and u_end\"\"\"\n",
    "    return (u-u_end) @ (u-u_end)"
   ]
  },
  {
   "cell_type": "markdown",
   "metadata": {},
   "source": [
    "we also define a little helper function that computes $f(\\vec u(m))$:"
   ]
  },
  {
   "cell_type": "code",
   "execution_count": null,
   "metadata": {},
   "outputs": [],
   "source": [
    "def fhat(m):\n",
    "    \"\"\"Reduced functional, for given m evaluate the diffusion model to get u(m), and subtitute in functional.\"\"\"\n",
    "    return f(u(m))"
   ]
  },
  {
   "cell_type": "markdown",
   "metadata": {},
   "source": [
    "* Write a python function `dfdm` that computes:\n",
    "$$\n",
    "  \\frac{\\mathrm{d}f(\\vec u(m))}{\\mathrm{d}m} = \\left.\\frac{\\partial f(\\vec u)}{\\partial\\vec u}\\right|_{\\vec u=\\vec u(m)}\\cdot\\frac{\\mathrm{d}\\vec u}{\\mathrm{d}m}\n",
    "$$\n",
    "Write a test that verifies the gradient is correct.\n",
    "\n",
    "***"
   ]
  },
  {
   "cell_type": "code",
   "execution_count": null,
   "metadata": {},
   "outputs": [],
   "source": [
    "def dfdu(u):\n",
    "    \"\"\"Analytical derivative of the functional f(u)\"\"\"\n",
    "    return 2*(u-u_end)\n",
    "def dfdm(m):\n",
    "    \"\"\"Computes gradient dfdm\"\"\"\n",
    "    return dfdu(u(m))@dudm(m) # dot product, equivalent to @"
   ]
  },
  {
   "cell_type": "code",
   "execution_count": null,
   "metadata": {
    "scrolled": false
   },
   "outputs": [],
   "source": [
    "m = 2 # initial guess for diffusion coefficient\n",
    "h0 = np.random.random(1) #random initial perturbation \n",
    "# this is not a small perturbation, but should show the asymptotic convergence for a sufficient number of iterations\n",
    "taylor_test(fhat, dfdm, m, h0)"
   ]
  },
  {
   "cell_type": "markdown",
   "metadata": {},
   "source": [
    "<div class=\"optional\">\n",
    "The order of convergence, computed from subsequent iterations, rapidly reaches the expected value of 2."
   ]
  },
  {
   "cell_type": "markdown",
   "metadata": {},
   "source": [
    "# Question B10\n",
    "\n",
    "We decide to use the following minimisation algorithm:"
   ]
  },
  {
   "cell_type": "code",
   "execution_count": null,
   "metadata": {},
   "outputs": [],
   "source": [
    "def optimize(dfdm, m0):\n",
    "    \"\"\"Algorithm to find stationary point for f(m) by solving df(m)/dm=0\n",
    "    \n",
    "    dfdm: a function that returns the gradient of f\n",
    "    m0: initial guess\"\"\"\n",
    "    \n",
    "    m_i = m0\n",
    "    \n",
    "    for i in range(100):  # fixed number of maximum iterations\n",
    "        gradf_i = dfdm(m_i)\n",
    "        print(dfdm(m_i)) # printed to check changes in slope\n",
    "        # stopping criterion\n",
    "        if abs(gradf_i) < 1e-5:\n",
    "            break\n",
    "        \n",
    "        if i>0:\n",
    "            # approximate the second derivative:\n",
    "            hess = (gradf_i - gradf_prev) / (m_i - m_prev)\n",
    "        else:\n",
    "            # first step: no good approximation, but value should be\n",
    "            # large enough to ensure the initial step is small\n",
    "            hess = 100.\n",
    "        \n",
    "        # store previous values:\n",
    "        gradf_prev = gradf_i\n",
    "        m_prev = m_i\n",
    "            \n",
    "        # update step:\n",
    "        m_i = m_prev - gradf_i/hess\n",
    "        print('Iteration {}, value: {}'.format(i, m_i))\n",
    "    else:\n",
    "        print('Maximum number of iterations reached!')\n",
    "        \n",
    "    return m_i"
   ]
  },
  {
   "cell_type": "code",
   "execution_count": null,
   "metadata": {
    "scrolled": true
   },
   "outputs": [],
   "source": [
    "optimize(dfdm, 3)"
   ]
  },
  {
   "cell_type": "markdown",
   "metadata": {},
   "source": [
    "* What is the specific name of the algorithm above, a variant of the Newton method? Why can we not use the standard Newton method? Use the above code to find the value of $m$ that was used to blur the photo. You will find that your initial guess needs to be roughly between 1 and 5. The algorithm does not converge for many values outside that range. Is this to be expected, and how could we improve it? (You do not need to actually implement this improvement)"
   ]
  },
  {
   "cell_type": "markdown",
   "metadata": {},
   "source": [
    "<div class=\"optional\">\n",
    "    \n",
    "The algorithm above corresponds to the secant method. \n",
    "\n",
    "\n",
    "Newton's method should not be used here as the derivative of the function being optimised cannot be calculated at each iteration. Whereas Newton’s method requires one function evaluation and one evaluation of the derivative per iteration, the secant method does not require evaluating the derivative [12].\n",
    "\n",
    "The value of $m$ used to blur the photo is $\\pi$ (around 3.14159).\n",
    "\n",
    "The secant method might diverge -- in this case, it does so when using first guesses for $m$ out of the range $[1, 5]$. After drawing the first secant, the two resulting values can sometimes lie on the same side of the root. As a result, the method will diverge. Similarly, if the secant line is parallel to the x-axis (slope of 0), this will result in a divison by 0, making the method diverge as well. \n",
    "\n",
    "To overcome this issue, the secant method can be modified to the false position method (regula falsi). This method ensures that no two resulting values lie on the same side of the root by guessing and checking. By doing so, it brackets the root and is therefore guaranteed to converge. \n",
    "\n"
   ]
  },
  {
   "cell_type": "markdown",
   "metadata": {},
   "source": [
    "# Question B11\n",
    "\n",
    "## Variable Diffusion Coefficient <a class=\"tocSkip\"></a>\n",
    "To apply a blur effect that varies throughout the photo, we consider a spatially varying diffusion coefficient $m(x,t)$\n",
    "\n",
    "$$\n",
    "  \\frac{\\partial u(x,y,t)}{\\partial t} - m(x,t) \\frac{\\partial^2 u(x,y,t)}{\\partial x^2} - m\\frac{\\partial^2 u(x,y,t)}{\\partial y^2} = 0\n",
    "$$\n",
    "\n",
    "or in discretised form:\n",
    "    \n",
    "$$ \n",
    "\\frac{u_i^{k+1} - u_i^k}{\\Delta t} +\n",
    "m_i\\frac{-u_{i-1}^{k+1} + 2u_{i}^{k+1} -u_{i+1}^{k+1}}{\\Delta x^2} + m_i\\frac{-u_{i-N_x}^{k+1} + 2u_{i}^{k+1} - u_{i+N_x}^{k+1}}{\\Delta y^2} = 0 $$\n",
    "\n",
    "where $m_i$ are the entries of a vector $\\vec m$ storing the different values of the diffusion coefficient at the grid points."
   ]
  },
  {
   "cell_type": "markdown",
   "metadata": {},
   "source": [
    "Again, we can write this as a linear system\n",
    "\n",
    "$$\n",
    "  \\mat A \\vec u^{k+1} = \\vec u^k\n",
    "$$\n",
    "\n",
    "where now\n",
    "\n",
    "$$\n",
    "  \\mat A = \\mat I + \\Delta t~\\mat{diag}(\\vec m)~\\mat K\n",
    "$$\n",
    "\n",
    "with $\\mat{diag}(\\vec m)$ the diagonal matrix whose only nonzero entries are along the main diagonal, and are given by the entries of $\\vec m$."
   ]
  },
  {
   "cell_type": "markdown",
   "metadata": {},
   "source": [
    "The implementation is given below:"
   ]
  },
  {
   "cell_type": "code",
   "execution_count": null,
   "metadata": {},
   "outputs": [],
   "source": [
    "def A_matrix(Nx, Ny, m, delta_t=1.0, delta_x=1.0):\n",
    "    \"\"\"Assemble discrete timestepping matrix A for diffusion equation\n",
    "    with variable diffusion\n",
    "    \n",
    "    Nx, Ny: number of gridpoint in x and y directions\n",
    "    m: diffusion coefficient in all gridpoints, array of length Nx*Ny\n",
    "    delta_t: time step\n",
    "    delta_x: grid distance\n",
    "    \"\"\"\n",
    "\n",
    "    n = Ny * Nx\n",
    "    K = K_matrix(Nx, Ny, delta_x)\n",
    "    A = sp.eye(n) + delta_t * sp.diags(m) @  K\n",
    "        \n",
    "    return A\n",
    "\n",
    "# added by moi\n",
    "\n",
    "def K_matrix(Nx, Ny, delta_x=1.0):\n",
    "    \"\"\"Assemble discrete Poisson matrix K\n",
    "    \n",
    "    Nx, Ny: number of gridpoint in x and y directions\n",
    "    delta_x: grid distance\n",
    "    \"\"\"\n",
    "    n = Ny * Nx\n",
    "    K = sp.eye(n)*4  # main diagonal with the value 4\n",
    "    K -= sp.eye(n, k=1)  # connections to grid point on the right\n",
    "    K -= sp.eye(n, k=-1)  # connection to the left\n",
    "    K -= sp.eye(n, k=Nx) # connection to grid point below\n",
    "    K -= sp.eye(n, k=-Nx)  # connection above\n",
    "    K = K / (delta_x)**2  # divide all entries by dx^2\n",
    "        \n",
    "    return K"
   ]
  },
  {
   "cell_type": "markdown",
   "metadata": {},
   "source": [
    "* Show that the matrix $\\mat A$ is *not* symmetric (either by mathematical proof or by experiment), assuming the values of $\\vec m$ are not all the same."
   ]
  },
  {
   "cell_type": "markdown",
   "metadata": {},
   "source": [
    "<div class=\"optional\">\n",
    "To illustrate this, take the simple case where:\n",
    "\n",
    "$$\\mat A = \\mat I + \\Delta t~\\mat{diag}(\\vec m)~\\mat K = \\mat I + \\Delta t \\begin{pmatrix}  \n",
    "  m_{1,1} & 0 \\\\\n",
    "  0 & m_{2,2}\\\\\n",
    "  \\end{pmatrix} \n",
    "  \\begin{pmatrix}  \n",
    "  K_{1,1} & K_{1,2} \\\\\n",
    "  K_{2,1} & K_{2,2}\\\\\n",
    "  \\end{pmatrix} = \\mat I + \\Delta t~  \\begin{pmatrix}  \n",
    "  m_{1,1} K_{1,1} & m_{1,1} K_{1,2} \\\\\n",
    "  m_{2,2} K_{2,1} & m_{2,2} K_{2,2}\\\\\n",
    "  \\end{pmatrix} = \n",
    "  \\begin{pmatrix}  \n",
    "  m_{1,1} K_{1,1} + I_{1,1} & m_{1,1} K_{1,2} \\\\\n",
    "  m_{2,2} K_{2,1} & m_{2,2} K_{2,2} +  I_{2,2}\\\\\n",
    "  \\end{pmatrix}$$\n",
    "\n",
    "The expression above shows that $\\mat A$ is not symmetric for $m_{1,1} \\neq m_{2,2}$.\n",
    "\n",
    "This is also checked in the code below.  Random values of $m$ are generated to show how $\\mat A$ is not symmetric. "
   ]
  },
  {
   "cell_type": "code",
   "execution_count": null,
   "metadata": {},
   "outputs": [],
   "source": [
    "I = np.eye(2) # Initialise identitiy matrix\n",
    "dt = 1e-2 # set some arbitrary dt\n",
    "m = np.zeros((2, 2)); m[0, 0] = np.random.random(1); m[1, 1] = np.random.random(1) # set diagonal matrix m, where m1 != m2\n",
    "K = K_matrix(1, 2) # intialise K matrix\n",
    "A = I + dt*m@K # calculate A, and check it if it is symmetric\n",
    "print(\"Matrix A is: \\n {} \\n Is it symmetric? {}\".format(A, (np.count_nonzero(np.ndarray.flatten(A-A.transpose()))) == 0) )"
   ]
  },
  {
   "cell_type": "markdown",
   "metadata": {},
   "source": [
    "# Question B12\n",
    "\n",
    "We now need to redefine the `diffusion_model` based on the new `A_matrix`. This code works exactly as before, except we now return not just the solution at the last timestep, but also all inbetween solutions in a list:"
   ]
  },
  {
   "cell_type": "code",
   "execution_count": null,
   "metadata": {},
   "outputs": [],
   "source": [
    "def diffusion_model(Nx, Ny, m, u0, Nt, delta_t=1.0, delta_x=1.0):\n",
    "    \"\"\"Solve diffusion equation with variable diffusion,\n",
    "    and return the solution in all timesteps\n",
    "    \n",
    "    Nx, Ny: number of gridpoint in x and y directions\n",
    "    m: diffusion coefficient in all gridpoints, array of length Nx*Ny\n",
    "    u0: initial condition\n",
    "    Nt: number of timesteps\n",
    "    delta_t: time step\n",
    "    delta_x: grid distance\n",
    "    \"\"\"\n",
    "\n",
    "    A = A_matrix(Nx, Ny, m, delta_t=delta_t, delta_x=delta_x)\n",
    "    u = []\n",
    "    ui = u0\n",
    "    for i in range(Nt):\n",
    "        ui = spl.spsolve(A, ui)\n",
    "        u.append(ui)\n",
    "    return u"
   ]
  },
  {
   "cell_type": "markdown",
   "metadata": {},
   "source": [
    "We use the model on a different photo, and run the model to apply the blurring effect."
   ]
  },
  {
   "cell_type": "code",
   "execution_count": null,
   "metadata": {},
   "outputs": [],
   "source": [
    "# read the input image, which forms the initial condition u_ic:\n",
    "img = plt.imread('queens.png')\n",
    "fig, ax = plt.subplots(1,2, figsize=(16,8))\n",
    "ax[0].imshow(img, cmap='gray')\n",
    "\n",
    "# This sets up the  spatially varying diffusion coefficient in an array m\n",
    "# that increases towards the boundaries\n",
    "# However, after this cell we will \"forget\" what m was, and try to retreive it\n",
    "# by solving the optimisation problem described further below\n",
    "Ny, Nx = img.shape\n",
    "x, y = np.meshgrid(np.arange(Nx), np.arange(Ny))\n",
    "x0 = Nx/2.; y0 = Ny/2.\n",
    "m_grid = np.exp(-1/100./(((x-x0)/Nx/0.75)**4+((y-y0)/Ny/1.2)**4+1e-10))\n",
    "m = m_grid.flatten()\n",
    "\n",
    "# apply the filter based on this vector m:\n",
    "u0 = img.flatten()\n",
    "u = diffusion_model(Nx, Ny, m, u0, 5)\n",
    "\n",
    "# plot the resulting image, and store it in a file to be used as u_end later\n",
    "img1 = u[-1].reshape(img.shape)  # image based on the final timestep solution u[-1]\n",
    "np.save('queens-blurred.npy', img1)\n",
    "ax[1].imshow(img1, cmap='gray');"
   ]
  },
  {
   "cell_type": "markdown",
   "metadata": {},
   "source": [
    "After applying the filter, again we have lost the vector of diffusion coefficients $\\vec m$. Like before, we would like to recover these values using a PDE-constrained optimisation problem using the same functional $f(u, m)$ as before. This time we formulate it as a *discrete optimisation problem*:\n",
    "\n",
    "$$\n",
    "  \\text{minimize } f(\\vec u, \\vec m) = \\left(\\vec u^{N_t}-\\vec u_{\\text{end}}\\right)^T \\left(\\vec u^{N_t}-\\vec u_{\\text{end}}\\right)\n",
    "$$\n",
    "\n",
    "subject to the discrete PDE constraint\n",
    "\n",
    "$$\n",
    "g(\\vec u, \\vec m) = \n",
    "\\begin{pmatrix}\n",
    "\\mat A & 0 & 0 & 0 & \\cdots & 0\\\\\n",
    "-\\mat I & \\mat A & 0 & 0 &\\cdots & 0\\\\\n",
    "0 & -\\mat I & \\mat A & 0 & \\cdots & 0 \\\\\n",
    "\\vdots & \\vdots & \\ddots & \\ddots & \\cdots & 0 \\\\\n",
    "0 & 0 & \\cdots & -\\mat I & \\mat A & 0\\\\\n",
    "0 & 0 & \\cdots &0 & -\\mat I & \\mat A\n",
    "\\end{pmatrix}\n",
    "\\begin{pmatrix}\n",
    "  \\vec u^1 \\\\\n",
    "  \\vec u^2 \\\\\n",
    "  \\vec u^3 \\\\\n",
    "  \\vdots \\\\\n",
    "  \\vec u^{N_t-1} \\\\\n",
    "  \\vec u^{N_t}\n",
    "\\end{pmatrix}\n",
    "-\n",
    "\\begin{pmatrix}\n",
    "  \\vec u_{\\text{ic}} \\\\\n",
    "  0 \\\\\n",
    "  0 \\\\\n",
    "  \\vdots \\\\\n",
    "  \\phantom{^{N}} 0 \\phantom{^{N}} \\\\\n",
    "  \\phantom{^{N}} 0 \\phantom{^{N}}\n",
    "\\end{pmatrix}\n",
    "=\n",
    "\\begin{pmatrix}\n",
    "  0 \\\\\n",
    "  0 \\\\\n",
    "  0 \\\\\n",
    "  \\vdots \\\\\n",
    "  \\phantom{^{N}} 0 \\phantom{^{N}} \\\\\n",
    "  \\phantom{^{N}} 0 \\phantom{^{N}}\n",
    "\\end{pmatrix}  \n",
    "$$\n",
    "\n",
    "Here the vector $\\vec u$ represents the entire discrete solution at all timesteps, and therefore has a length of $N_t\\cdot N_x \\cdot N_y$, and is composed of (sub)-vectors $\\vec u^k$ for the solution at time-step $k$. The above matrix system thus describes the same timestepping sequence as we implemented above in `diffusion_model`:\n",
    "\n",
    "$$\n",
    "  \\mat A\\vec u^1 = \\vec u_{\\text{ic}} \\\\\n",
    "  -\\mat I\\vec u^1 + \\mat A\\vec u^2 = 0  \\implies  A\\vec u^2 = \\vec u^1 \\\\\n",
    "  \\vdots \\\\\n",
    "  -\\mat I\\vec u^{N_t-1} + \\mat A\\vec u^{N_t} = 0  \\implies  A\\vec u^{N_t} = \\vec u^{N_t-1}\n",
    "$$"
   ]
  },
  {
   "cell_type": "markdown",
   "metadata": {},
   "source": [
    "* We decide to solve this optimisation problem using a gradient-based optimisation algorithm, where the gradient is computed using the adjoint technique. Why can we not use the tangent linear approach as before (efficiently)? What are the three steps we need to take to compute this gradient?"
   ]
  },
  {
   "cell_type": "markdown",
   "metadata": {},
   "source": [
    "<div class=\"optional\">\n",
    "The tangent linear method is useful for cases with a small number of parameters, and a potentially large number of functionals. The inversion problem stated above involves finding 128 different $m$ coefficients. Here  $𝑚$  represents an initial condition, and so the number of model parameters  𝑀  is the same as the number of gridpoints - which makes this method infeasible [10]. The problem above can be solved for each column in  𝑑𝑢/𝑑𝑚  separately with a corresponding column of  ∂𝑔/∂𝑚  on the right-hand side. Each of those  𝑀  solves is equivalent to running an entire discretised model through all its timesteps, making the tangent linear method highly suboptimal for this application. \n",
    "\n",
    "The gradient $d\\hat f(m)/dm$ can be computed in 3 steps:\n",
    "\n",
    "1. Solving the PDE constraint $g(u, m)=0$ to obtain $u=u(m)$\n",
    "\n",
    "2. Solving the adjoint equation using $m$ and $u(m)$ for $\\lambda$, such that the partial derivative of the Lagrangian with respect to **$u$** is zero. As such, the adjoint equation is given by:\n",
    "$$\n",
    "    \\left(\\frac{\\partial g(u, \\vec m)}{\\partial u}\\right)^T\n",
    "  \\vlam = \\left(\\frac{\\partial f(u, \\vec m)}{\\partial u}\\right)^T\n",
    "$$\n",
    "\n",
    "3. The derivative of the reduced functional is now given by:\n",
    "\n",
    "$$\n",
    "  \\frac{d\\hat f(\\vec m)}{d\\vec m} = \\frac{\\partial f(u, \\vec m)}{\\partial \\vec m} - \\vlam\\cdot \\frac{\\partial g(u, \\vec m)}{\\partial \\vec m}\n",
    "$$\n",
    "\n",
    "And for this particular problem: \n",
    "\n",
    "$$ \\frac{\\partial f(u, \\vec m)}{\\partial \\vec m} = 0 $$\n",
    "\n",
    "Which means that the derivative of the reduced functional can be described as: \n",
    "$$\n",
    "  \\frac{d\\hat f(\\vec m)}{d\\vec m} = - \\vlam\\cdot \\frac{\\partial g(u, \\vec m)}{\\partial \\vec m}\n",
    "$$\n",
    "\n",
    "In the last step, the term $\\partial\\mathcal{L}/\\partial m$ is computed (this is not necessarily zero). $d\\hat{f}/dm$ can be coputed such that the reduced optimisation problem is solved iteratively for $m$ [10]. Such an iterative solution procedure typicall requires the repetition of the three steps needed to compute the gradient for each iterate $m$. The optimal solution is found (some $m$ for which $d\\hat{f}/dm=0$) as soon as the stationary point of $\\mathcal{L}$ is calculated, since  $\\partial\\mathcal{L}/\\partial m = d\\hat{f}/dm=0$."
   ]
  },
  {
   "cell_type": "markdown",
   "metadata": {},
   "source": [
    "# Question B13\n",
    "\n",
    "* Derive the (discrete) adjoint equation for this problem. Work out how the resulting linear system can be solved timestep by timestep. In what order are the timesteps best solved?"
   ]
  },
  {
   "cell_type": "markdown",
   "metadata": {},
   "source": [
    "<div class=\"optional\">\n",
    "The process outlined below is similar to that found in [10].\n",
    "    \n",
    "The functional to be minimised is given by:\n",
    "$$\n",
    "f(\\vec u, \\vec m) = \\left(\\vec u^{N_t}-\\vec u_{\\text{end}}\\right)^T \\left(\\vec u^{N_t}-\\vec u_{\\text{end}}\\right)\n",
    "$$\n",
    "\n",
    "So its derivative is:\n",
    "\n",
    "$$\n",
    "\\left(\\frac{\\partial f(u, \\vec m)}{\\partial u}\\right) = 2\\left(\\vec u^{N_t}-\\vec u_{\\text{end}}\\right)\n",
    "$$\n"
   ]
  },
  {
   "cell_type": "markdown",
   "metadata": {},
   "source": [
    "<div class=\"optional\">\n",
    "As stated above, the continuous adjoint equation is given by:\n",
    "\n",
    "$$\n",
    "    \\left(\\frac{\\partial g(u, \\vec m)}{\\partial u}\\right)^T\n",
    "  \\vlam = \\left(\\frac{\\partial f(u, \\vec m)}{\\partial u}\\right)^T = 2\\left(\\vec u^{N_t}-\\vec u_{\\text{end}}\\right)\n",
    "$$\n"
   ]
  },
  {
   "cell_type": "markdown",
   "metadata": {},
   "source": [
    "<div class=\"optional\">\n",
    "Its discrete version can be expressed as: \n",
    "\n",
    "\\begin{align*}\n",
    "  \\underset{\\bf 1\\times U}{\\frac{\\partial f(\\vec u, \\vec m)}{\\partial\\vec u}} - \\underset{\\bf 1\\times U}{\\lambda^T} \n",
    "  \\underset{\\bf U\\times U}{\\frac{\\partial g(\\vec u, \\vec m)}{\\partial\\vec u}} = 0 \\\\\n",
    "  \\implies\n",
    "  \\underset{\\bf U\\times U}{\\left(\\frac{\\partial g(\\vec u, \\vec m)}{\\partial \\vec u}\\right)^T}\n",
    "  \\underset{\\bf U\\times 1}{\\lambda} = \\underset{\\bf U\\times 1}{\\left(\\frac{\\partial f(\\vec u,\\vec m)}{\\partial \\vec u}\\right)^T}\n",
    "\\end{align*}\n",
    "\n",
    "By taking the transpose of the matrix $\\partial g/\\partial\\vec u$ - in the tangent linear approach this matrix described a linearisation of the discretised PDE - an equation that can be solved for $\\lambda$ is obtained."
   ]
  },
  {
   "cell_type": "markdown",
   "metadata": {},
   "source": [
    "<div class=\"optional\">\n",
    "Note that since $g(u, \\vec m)=\\mat A u - \\vec b$ is linear, this becomes simply:\n",
    "\n",
    "$$\n",
    "    \\mat A^T \\vlam = \\left(\\frac{\\partial f(u, \\vec m)}{\\partial u}\\right)^T = 2\\left(\\vec u^{N_t}-\\vec u_{\\text{end}}\\right)\n",
    "$$\n",
    "\n",
    "\n",
    "The adjoint equation gives rise to a linear system of the following form:\n",
    "\n",
    "$$\n",
    "  \\begin{pmatrix}\n",
    "    \\mat A^T & \\mat -I \\\\\n",
    "    & \\mat A^T & \\mat -I \\\\\n",
    "    & & \\mat A^T & \\mat -I \\\\\n",
    "    & & & \\ddots & \\ddots \\\\\n",
    "    & & & & \\mat A^T & \\mat -I \\\\\n",
    "    & & & & & \\mat A^T\n",
    "  \\end{pmatrix}\n",
    "  \\begin{pmatrix}\n",
    "    \\vlam^1 \\\\ \\vlam^2 \\\\ \\vlam^3 \\\\ \\vdots \\\\ \\vlam^{N_t-1} \\\\ \\vlam^{N_t}\n",
    "  \\end{pmatrix}\n",
    "=\n",
    "  \\begin{pmatrix}\n",
    "    \\frac{\\partial f}{\\partial \\vec u^1} \\\\ \n",
    "    \\frac{\\partial f}{\\partial \\vec u^2} \\\\ \n",
    "    \\frac{\\partial f}{\\partial \\vec u^3} \\\\ \n",
    "    \\vdots \\\\\n",
    "    \\frac{\\partial f}{\\partial \\vec u^{N_t-1}} \\\\ \n",
    "    \\frac{\\partial f}{\\partial \\vec u^{N_t}} \\\\ \n",
    "  \\end{pmatrix}\n",
    "  =\n",
    "  \\begin{pmatrix}\n",
    "   2(u^1 - u_{end})\\\\ \n",
    "   2(u^2 - u_{end})\\\\ \n",
    "   2(u^3 - u_{end}) \\\\ \n",
    "    \\vdots \\\\\n",
    "   2(u^{N_t-1} - u_{end})  \\\\ \n",
    "   2(u^{N_t} - u_{end})  \\\\ \n",
    "  \\end{pmatrix},\n",
    "$$\n",
    "\n",
    "This system is solved by going backwards through the time levels, i.e. first the last row is solved:\n",
    "\n",
    "$$\n",
    "  \\mat A_{N_t, N_t}^T \\vlam^{N_t} = \\frac{\\partial f}{\\partial \\vec u^{N_t}} = 2(u^{N_t} - u_{end}),\n",
    "$$\n",
    "\n",
    "then using $\\vlam^{N_t}$, solve for $\\vlam^{N_t-1}$\n",
    "\n",
    "$$\n",
    "  \\mat A_{N_t-1, N_t-1}^T \\vlam^{N_t-1} - \\mat I \\vlam^{N_t}=  \\frac{\\partial f}{\\partial \\vec u^{N_t-1}} = 2(u^{N_t-1} - u_{end}),\n",
    "$$\n",
    "\n",
    "etc.\n",
    "\n",
    "For a discrete PDE-constrained optimisation problem, the adjoint equation leads to a numerical model that requires the timesteps to be taken backwards."
   ]
  },
  {
   "cell_type": "markdown",
   "metadata": {},
   "source": [
    "# Question B14\n",
    "\n",
    "We provide you with following code, implementing the backward model (which you should be able to relate to your previous answer):"
   ]
  },
  {
   "cell_type": "code",
   "execution_count": null,
   "metadata": {},
   "outputs": [],
   "source": [
    "def backward_model(Nx, Ny, m, Nt, u_Nt):\n",
    "    \"\"\"Solve adjoint equation and return the adjoint solution in all timesteps\n",
    "    \n",
    "    Nx, Ny: number of gridpoint in x and y directions\n",
    "    m: diffusion coefficient in all gridpoints, array of length Nx*Ny\n",
    "    u_Nt: forward solution in last timestep\n",
    "    \"\"\"\n",
    "\n",
    "    A = A_matrix(Nx, Ny, m)\n",
    "    lam = 2*(u_Nt - u_end)  # right-hand side in last time step\n",
    "    \n",
    "    # first collect solutions in reverse order:\n",
    "    lambdas = []  \n",
    "    for i in range(Nt):\n",
    "        lam = spl.spsolve(A.T, lam)\n",
    "        lambdas.append(lam)\n",
    "    \n",
    "    # then reverse the list, so that the returned list is in the correct order\n",
    "    return lambdas[::-1]"
   ]
  },
  {
   "cell_type": "code",
   "execution_count": null,
   "metadata": {},
   "outputs": [],
   "source": [
    "# plot the resulting image, and store it in a file to be used as u_end later\n",
    "img1 = u[-1].reshape(img.shape)  # image based on the final timestep solution u[-1]\n",
    "np.save('queens-blurred.npy', img1)\n",
    "ax[1].imshow(img1, cmap='gray');\n",
    "#u_end"
   ]
  },
  {
   "cell_type": "markdown",
   "metadata": {},
   "source": [
    "Again, we define\n",
    "\n",
    "$$\n",
    "  \\hat f(\\vec m) = f(\\vec u(\\vec m), \\vec m)\n",
    "$$\n",
    "\n",
    "where $\\vec u(\\vec m)$ is the \"forward\" solution to the discretised PDE $g(\\vec u,\\vec m)=0$. This is implemented below:"
   ]
  },
  {
   "cell_type": "code",
   "execution_count": null,
   "metadata": {},
   "outputs": [],
   "source": [
    "img1 = np.load('queens-blurred.npy')\n",
    "Ny, Nx = img1.shape\n",
    "Nt = 5\n",
    "u_end = img1.flatten()\n",
    "\n",
    "def f(u_Nt):\n",
    "    \"\"\"Functional based on final-timestep forward solution\"\"\"\n",
    "    return (u_Nt-u_end) @ (u_Nt-u_end)\n",
    "\n",
    "def fhat(m):\n",
    "    \"\"\"Reduced functional: compute forward solution for given array of grid-point diffusion coefficients\n",
    "    and subtitute into functional\"\"\"\n",
    "    u = diffusion_model(Nx, Ny, m, u0, Nt)\n",
    "    fu = f(u[-1])\n",
    "    #print('f(u(m)): ', fu)\n",
    "    return fu"
   ]
  },
  {
   "cell_type": "markdown",
   "metadata": {},
   "source": [
    "* Implement the derivative $\\mathrm{d}\\hat f(\\vec m)/\\mathrm{d}\\vec m$ in a python function `dfdm`. As always, test your derivative: i.e. write a test that verifies that `dfdm` is a derivative of `fhat` above.\n",
    "\n",
    "**Hint**:\n",
    "You may use the following expression:\n",
    "\n",
    "\\begin{align*}\n",
    "  \\left(\\vlam^T \\frac{\\partial g(\\vec u, \\vec m)}{\\partial\\vec m}\\right)_i\n",
    "  =\\sum_{k=1}^{N_t} \\Delta t\\lambda^k_i \\left(\\mat K\\vec u^k\\right)_i\n",
    "\\end{align*}\n",
    "\n",
    "where $\\lambda^k_i$ is the $i$ entry of the adjoint solution $\\vlam^k$ at timestep $k$ (the $i$th entry in the $k$th array of the list of arrays returned by `backward_model`). Note that there is no summation over $i$ in the last expression: the shape of the matrix $\\partial g/\\partial\\vec m$ is $(Nt\\cdot n)\\times n$, so $\\vlam^T \\partial g/\\partial\\vec m$ is a $n$-vector whose $i$-th entry is given above. Similarly $(\\mat K\\vec u^k)_i$ means the $i$-th entry of the vector given by the matrix-vector multiplication $\\mat K\\vec u^k$ where $\\vec u^k$ is the solution in the $k$-th timestep (returned as a list of arrays by `diffusion_model`)."
   ]
  },
  {
   "cell_type": "code",
   "execution_count": null,
   "metadata": {},
   "outputs": [],
   "source": [
    "def dfdm(m, delta_t = 1):\n",
    "    \"\"\"Calculate dfdm (adjoint model). Takes list of diffusion coefficients m\"\"\"\n",
    "    #step 1:\n",
    "    u = diffusion_model(Nx, Ny, m, u0, Nt) \n",
    "    #step 2:\n",
    "    lam = backward_model(Nx, Ny, m, Nt, u[-1][:])\n",
    "    #step 3:\n",
    "    df = np.zeros(Nx*Ny)\n",
    "    for i in range(Nt):\n",
    "        df = df - delta_t*lam[i][:]@K@u[i][:]\n",
    "    return df"
   ]
  },
  {
   "cell_type": "code",
   "execution_count": null,
   "metadata": {
    "scrolled": false
   },
   "outputs": [],
   "source": [
    "K = K_matrix(Nx, Ny) # initialise K matrix\n",
    "m_grid = np.exp(-1/100./(((x-x0)/Nx/0.75)**4+((y-y0)/Ny/1.2)**4+1e-10)) # set some diffusion coefficients\n",
    "m = m_grid.flatten() # and convert it to 1d array to pass it to functions\n",
    "np.random.seed(0)  \n",
    "h0 = np.random.random(1)/10 #set original perturbation\n",
    "taylor_test(fhat, dfdm, m, h0) # test wether dfdm is indeed the derivative of fhat"
   ]
  },
  {
   "cell_type": "markdown",
   "metadata": {},
   "source": [
    "<div class=\"optional\">\n",
    "The order of convergence, computed from subsequent iterations, rapidly reaches the expected value of 2."
   ]
  },
  {
   "cell_type": "markdown",
   "metadata": {},
   "source": [
    "# References \n",
    "\n",
    "[1] S. Kramer, \"Lecture 5 - Jupyter Notebook\", Imperial College, 2020.\n",
    "\n",
    "[2] Math.mit.edu, 2020. [Online]. Available: https://math.mit.edu/classes/18.086/2006/am64.pdf. [Accessed: 11- Apr- 2020].\n",
    "\n",
    "[3] People.inf.ethz.ch, 2020. [Online]. Available: http://people.inf.ethz.ch/arbenz/FEM17/pdfs/0-19-852868-X.pdf. [Accessed: 11- Apr- 2020].\n",
    "\n",
    "[4] Web.stanford.edu, 2020. [Online]. Available: https://web.stanford.edu/class/cs205b/lectures/lecture16.pdf. [Accessed: 11- Apr- 2020].\n",
    "\n",
    "[5] Math.utah.edu, 2020. [Online]. Available: https://www.math.utah.edu/~vshankar/5620/FDElliptic.pdf?fbclid=IwAR1MNdXD7_Be5AmAXgzQGECXwQGZxL3Ehdyy-MSeJOIjsZ1tWSoYKt6lb0g. [Accessed: 11- Apr- 2020].\n",
    "\n",
    "[6] \"Sparse matrix\", En.wikipedia.org, 2020. [Online]. Available: https://en.wikipedia.org/wiki/Sparse_matrix. [Accessed: 11- Apr- 2020].\n",
    "\n",
    "[7] Cs.nyu.edu, 2020. [Online]. Available: https://cs.nyu.edu/courses/fall06/G22.2112-001/linearAlgebra1.pdf. [Accessed: 11- Apr- 2020].\n",
    "\n",
    "[8] Citeseerx.ist.psu.edu, 2020. [Online]. Available: http://citeseerx.ist.psu.edu/viewdoc/download?doi=10.1.1.231.4346&rep=rep1&type=pdf. [Accessed: 11- Apr- 2020].\n",
    "\n",
    "[9] People.eecs.berkeley.edu, 2020. [Online]. Available: https://people.eecs.berkeley.edu/~wkahan/Math128/Projects/LamMath221.pdf. [Accessed: 11- Apr- 2020].\n",
    "\n",
    "[10] S. Kramer, \"Lecture 7 - Jupyter Notebook\", Imperial College, 2020.\n",
    "\n",
    "[11] S. Kramer, \"Lecture 4 - Jupyter Notebook\", Imperial College, 2020.\n",
    "\n",
    "[12] Pages.cs.wisc.edu, 2020. [Online]. Available: http://pages.cs.wisc.edu/~amos/412/lecture-notes/lecture05.pdf. [Accessed: 11- Apr- 2020]."
   ]
  }
 ],
 "metadata": {
  "kernelspec": {
   "display_name": "Python 3",
   "language": "python",
   "name": "python3"
  },
  "language_info": {
   "codemirror_mode": {
    "name": "ipython",
    "version": 3
   },
   "file_extension": ".py",
   "mimetype": "text/x-python",
   "name": "python",
   "nbconvert_exporter": "python",
   "pygments_lexer": "ipython3",
   "version": "3.7.3"
  },
  "toc": {
   "base_numbering": 1,
   "nav_menu": {},
   "number_sections": true,
   "sideBar": true,
   "skip_h1_title": false,
   "title_cell": "Table of Contents",
   "title_sidebar": "Contents",
   "toc_cell": false,
   "toc_position": {},
   "toc_section_display": true,
   "toc_window_display": false
  }
 },
 "nbformat": 4,
 "nbformat_minor": 4
}
